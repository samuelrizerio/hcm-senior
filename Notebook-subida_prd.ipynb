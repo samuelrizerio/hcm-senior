{
    "metadata": {
        "kernelspec": {
            "name": "SQL",
            "display_name": "SQL",
            "language": "sql"
        },
        "language_info": {
            "name": "sql",
            "version": ""
        }
    },
    "nbformat_minor": 2,
    "nbformat": 4,
    "cells": [
        {
            "cell_type": "code",
            "source": [
                "insert into r034fun SELECT * FROM [LNK_SENIORHML].[VETORH_HML].[dbo].[r034fun] where numemp IN (51,52,53,54) order by 1,2,3;"
            ],
            "metadata": {
                "azdata_cell_guid": "3cd67b9d-c554-4a84-b279-3e19a8e45af5",
                "language": "sql"
            },
            "outputs": [],
            "execution_count": null
        },
        {
            "cell_type": "code",
            "source": [
                "select distinct codesc from [LNK_SENIORHML].[VETORH_HML].[dbo].[r034fun] \r\n",
                "where codesc in (SELECT distinct codesc FROM [LNK_SENIORHML].[VETORH_HML].[dbo].[r006esc])"
            ],
            "metadata": {
                "language": "sql",
                "azdata_cell_guid": "3e0e1d7d-635c-4c7d-9aad-081e54e74073"
            },
            "outputs": [],
            "execution_count": null
        },
        {
            "cell_type": "code",
            "source": [
                "insert r006esc SELECT * FROM [LNK_SENIORHML].[VETORH_HML].[dbo].[r006esc] esc2 \r\n",
                "where NOT EXISTS (SELECT * FROM r006esc ESC1 where esc1.codesc = esc2.codesc)"
            ],
            "metadata": {
                "language": "sql",
                "azdata_cell_guid": "f31c5e8d-37fb-4052-938f-76873a35925d",
                "tags": []
            },
            "outputs": [
                {
                    "output_type": "display_data",
                    "data": {
                        "text/html": "(17 rows affected)"
                    },
                    "metadata": {}
                },
                {
                    "output_type": "display_data",
                    "data": {
                        "text/html": "Total execution time: 00:00:00.754"
                    },
                    "metadata": {}
                }
            ],
            "execution_count": 2
        },
        {
            "cell_type": "code",
            "source": [
                "insert into r034fun SELECT * FROM [LNK_SENIORHML].[VETORH_HML].[dbo].[r034fun] where numemp IN (51,52,53,54) order by 1,2,3;"
            ],
            "metadata": {
                "azdata_cell_guid": "2adcdda1-ed50-4999-9baf-0c21abd232fb",
                "language": "sql"
            },
            "outputs": [
                {
                    "output_type": "display_data",
                    "data": {
                        "text/html": "(3504 rows affected)"
                    },
                    "metadata": {}
                },
                {
                    "output_type": "display_data",
                    "data": {
                        "text/html": "Total execution time: 00:00:19.944"
                    },
                    "metadata": {}
                }
            ],
            "execution_count": 3
        },
        {
            "cell_type": "code",
            "source": [
                "SELECT * FROM [LNK_SENIORHML].[VETORH_HML].[dbo].[R004HOR] esc2 \r\n",
                "where NOT EXISTS (SELECT * FROM R004HOR ESC1 where esc1.codhor = esc2.codhor)"
            ],
            "metadata": {
                "language": "sql",
                "azdata_cell_guid": "cd08ddc8-1b02-4052-ac23-300248fc74d3"
            },
            "outputs": [],
            "execution_count": null
        },
        {
            "cell_type": "code",
            "source": [
                "insert R004HOR SELECT * FROM [LNK_SENIORHML].[VETORH_HML].[dbo].[R004HOR] esc2 \r\n",
                "where NOT EXISTS (SELECT * FROM R004HOR ESC1 where esc1.codhor = esc2.codhor)"
            ],
            "metadata": {
                "language": "sql",
                "azdata_cell_guid": "baa71495-41ca-4934-922e-f37171733a7e"
            },
            "outputs": [
                {
                    "output_type": "display_data",
                    "data": {
                        "text/html": "(28 rows affected)"
                    },
                    "metadata": {}
                },
                {
                    "output_type": "display_data",
                    "data": {
                        "text/html": "Total execution time: 00:00:00.326"
                    },
                    "metadata": {}
                }
            ],
            "execution_count": 8
        },
        {
            "cell_type": "code",
            "source": [
                "SELECT * FROM [LNK_SENIORHML].[VETORH_HML].[dbo].[R006HOR] esc2 \r\n",
                "where NOT EXISTS (SELECT * FROM R006HOR ESC1 where esc1.codhor = esc2.codhor)"
            ],
            "metadata": {
                "language": "sql",
                "azdata_cell_guid": "e46826b7-ea5f-4c5f-b35b-8147fb28e0c8"
            },
            "outputs": [],
            "execution_count": null
        },
        {
            "cell_type": "code",
            "source": [
                "insert R006HOR SELECT * FROM [LNK_SENIORHML].[VETORH_HML].[dbo].[R006HOR] esc2 \r\n",
                "where NOT EXISTS (SELECT * FROM R006HOR ESC1 where esc1.codesc = esc2.codesc)"
            ],
            "metadata": {
                "language": "sql",
                "azdata_cell_guid": "4423a871-cfc1-486d-a515-99f427a1f8f0",
                "tags": [
                    "hide_input"
                ]
            },
            "outputs": [],
            "execution_count": null
        },
        {
            "cell_type": "code",
            "source": [
                "insert into r034cpl SELECT * FROM [LNK_SENIORHML].[VETORH_HML].[dbo].[r034cpl] where numemp IN (51,52,53,54) order by 1,2,3;"
            ],
            "metadata": {
                "language": "sql",
                "azdata_cell_guid": "46ba47f0-a100-425b-a681-216f3788e2ec"
            },
            "outputs": [
                {
                    "output_type": "display_data",
                    "data": {
                        "text/html": "(3498 rows affected)"
                    },
                    "metadata": {}
                },
                {
                    "output_type": "display_data",
                    "data": {
                        "text/html": "Total execution time: 00:00:11.819"
                    },
                    "metadata": {}
                }
            ],
            "execution_count": 13
        },
        {
            "cell_type": "code",
            "source": [
                "insert into r036dep SELECT * FROM [LNK_SENIORHML].[VETORH_HML].[dbo].[r036dep] where numemp IN (51,52,53,54) order by 1,2,3;"
            ],
            "metadata": {
                "language": "sql",
                "azdata_cell_guid": "b7f453ff-4842-4440-9609-4335e8259063"
            },
            "outputs": [
                {
                    "output_type": "display_data",
                    "data": {
                        "text/html": "(10036 rows affected)"
                    },
                    "metadata": {}
                },
                {
                    "output_type": "display_data",
                    "data": {
                        "text/html": "Total execution time: 00:00:13.593"
                    },
                    "metadata": {}
                }
            ],
            "execution_count": 14
        },
        {
            "cell_type": "code",
            "source": [
                "insert into r034adm SELECT * FROM [LNK_SENIORHML].[VETORH_HML].[dbo].[r034adm] where numemp IN (51,52,53,54) order by 1,2,3;"
            ],
            "metadata": {
                "language": "sql",
                "azdata_cell_guid": "c8e5deeb-0415-49d8-91b5-23af5e9c7f40"
            },
            "outputs": [
                {
                    "output_type": "display_data",
                    "data": {
                        "text/html": "(3538 rows affected)"
                    },
                    "metadata": {}
                },
                {
                    "output_type": "display_data",
                    "data": {
                        "text/html": "Total execution time: 00:00:00.122"
                    },
                    "metadata": {}
                }
            ],
            "execution_count": 18
        },
        {
            "cell_type": "code",
            "source": [
                "delete r034adm where numemp in (51,52,53,54)"
            ],
            "metadata": {
                "language": "sql",
                "azdata_cell_guid": "6ac0e20b-627c-47ad-acac-56143efd185e"
            },
            "outputs": [
                {
                    "output_type": "display_data",
                    "data": {
                        "text/html": "(35 rows affected)"
                    },
                    "metadata": {}
                },
                {
                    "output_type": "display_data",
                    "data": {
                        "text/html": "Total execution time: 00:00:00.030"
                    },
                    "metadata": {}
                }
            ],
            "execution_count": 17
        },
        {
            "cell_type": "code",
            "source": [
                "update r034adm set codpro = 0 where numemp IN (51,52,53,54);"
            ],
            "metadata": {
                "language": "sql",
                "azdata_cell_guid": "2613df74-d468-421f-bcba-df263248b1cc"
            },
            "outputs": [
                {
                    "output_type": "display_data",
                    "data": {
                        "text/html": "(3538 rows affected)"
                    },
                    "metadata": {}
                },
                {
                    "output_type": "display_data",
                    "data": {
                        "text/html": "Total execution time: 00:00:00.066"
                    },
                    "metadata": {}
                }
            ],
            "execution_count": 19
        },
        {
            "cell_type": "code",
            "source": [
                "insert into r038cat SELECT * FROM [LNK_SENIORHML].[VETORH_HML].[dbo].[r038cat] where numemp IN (53) and numcad > 44 order by 1,2,3;"
            ],
            "metadata": {
                "language": "sql",
                "azdata_cell_guid": "68816faa-7e9d-4bac-b002-b94a6f7f2298"
            },
            "outputs": [
                {
                    "output_type": "display_data",
                    "data": {
                        "text/html": "(16 rows affected)"
                    },
                    "metadata": {}
                },
                {
                    "output_type": "display_data",
                    "data": {
                        "text/html": "Total execution time: 00:00:01.245"
                    },
                    "metadata": {}
                }
            ],
            "execution_count": 25
        },
        {
            "cell_type": "code",
            "source": [
                "select * from r038cat where numemp IN (51,52,53,54);"
            ],
            "metadata": {
                "language": "sql",
                "azdata_cell_guid": "a994b7e9-133b-4c8f-8a7a-efb81be6b21d"
            },
            "outputs": [],
            "execution_count": null
        },
        {
            "cell_type": "code",
            "source": [
                "insert into r038cat SELECT * FROM [LNK_SENIORHML].[VETORH_HML].[dbo].[r038cat] where numemp IN (51,52,54) order by 1,2,3;"
            ],
            "metadata": {
                "language": "sql",
                "azdata_cell_guid": "e2025956-9c38-4062-ab1f-5194400ce06b"
            },
            "outputs": [
                {
                    "output_type": "display_data",
                    "data": {
                        "text/html": "(3488 rows affected)"
                    },
                    "metadata": {}
                },
                {
                    "output_type": "display_data",
                    "data": {
                        "text/html": "Total execution time: 00:01:07.936"
                    },
                    "metadata": {}
                }
            ],
            "execution_count": 26
        },
        {
            "cell_type": "code",
            "source": [
                "update r038cat set stahis = 1 where numemp IN (51,52,53,54);"
            ],
            "metadata": {
                "language": "sql",
                "azdata_cell_guid": "73426ea9-fd4b-4567-93ec-145c07421221"
            },
            "outputs": [
                {
                    "output_type": "display_data",
                    "data": {
                        "text/html": "(3539 rows affected)"
                    },
                    "metadata": {}
                },
                {
                    "output_type": "display_data",
                    "data": {
                        "text/html": "Total execution time: 00:00:57.033"
                    },
                    "metadata": {}
                }
            ],
            "execution_count": 27
        },
        {
            "cell_type": "code",
            "source": [
                "insert into r038hsa SELECT * FROM [LNK_SENIORHML].[VETORH_HML].[dbo].[r038hsa] where numemp IN (51,52,53,54) order by 1,2,3;"
            ],
            "metadata": {
                "language": "sql",
                "azdata_cell_guid": "7b10421c-89c8-40af-aebe-fd64f3a7298d"
            },
            "outputs": [
                {
                    "output_type": "display_data",
                    "data": {
                        "text/html": "(10951 rows affected)"
                    },
                    "metadata": {}
                },
                {
                    "output_type": "display_data",
                    "data": {
                        "text/html": "Total execution time: 00:03:15.849"
                    },
                    "metadata": {}
                }
            ],
            "execution_count": 28
        },
        {
            "cell_type": "code",
            "source": [
                "update r038hsa set tipest = 0 where numemp IN (51,52,53,54);"
            ],
            "metadata": {
                "language": "sql",
                "azdata_cell_guid": "27ca4c3e-8cbd-4e32-ba95-9eb80af02c5c"
            },
            "outputs": [
                {
                    "output_type": "display_data",
                    "data": {
                        "text/html": "(10951 rows affected)"
                    },
                    "metadata": {}
                },
                {
                    "output_type": "display_data",
                    "data": {
                        "text/html": "Total execution time: 00:02:21.058"
                    },
                    "metadata": {}
                }
            ],
            "execution_count": 29
        },
        {
            "cell_type": "code",
            "source": [
                "insert into r038hlo SELECT * FROM [LNK_SENIORHML].[VETORH_HML].[dbo].[r038hlo] where numemp IN (51,52,53,54) order by 1,2,3;"
            ],
            "metadata": {
                "language": "sql",
                "azdata_cell_guid": "0c1bf6df-00be-4716-accf-10a80255667c"
            },
            "outputs": [
                {
                    "output_type": "display_data",
                    "data": {
                        "text/html": "(3504 rows affected)"
                    },
                    "metadata": {}
                },
                {
                    "output_type": "display_data",
                    "data": {
                        "text/html": "Total execution time: 00:00:51.228"
                    },
                    "metadata": {}
                }
            ],
            "execution_count": 30
        },
        {
            "cell_type": "code",
            "source": [
                "update r038hlo set stahis = 1 where numemp IN (51,52,53,54);"
            ],
            "metadata": {
                "language": "sql",
                "azdata_cell_guid": "b66ebb58-71dc-4db7-ba66-8adf9386e6ac"
            },
            "outputs": [
                {
                    "output_type": "display_data",
                    "data": {
                        "text/html": "(3504 rows affected)"
                    },
                    "metadata": {}
                },
                {
                    "output_type": "display_data",
                    "data": {
                        "text/html": "Total execution time: 00:00:45.802"
                    },
                    "metadata": {}
                }
            ],
            "execution_count": 1
        },
        {
            "cell_type": "code",
            "source": [
                "insert into r038heb SELECT * FROM [LNK_SENIORHML].[VETORH_HML].[dbo].[r038heb] where numemp IN (51,52,53,54) order by 1,2,3;"
            ],
            "metadata": {
                "language": "sql",
                "azdata_cell_guid": "963238b5-79de-4b4d-b3a9-924bc7242610"
            },
            "outputs": [
                {
                    "output_type": "display_data",
                    "data": {
                        "text/html": "(62 rows affected)"
                    },
                    "metadata": {}
                },
                {
                    "output_type": "display_data",
                    "data": {
                        "text/html": "Total execution time: 00:00:00.221"
                    },
                    "metadata": {}
                }
            ],
            "execution_count": 2
        },
        {
            "cell_type": "code",
            "source": [
                "update r038heb set obsini = ' '  where numemp IN (51,52,53,54);"
            ],
            "metadata": {
                "language": "sql",
                "azdata_cell_guid": "eecb6c71-4238-41c7-a19b-3c889c0a1dc3"
            },
            "outputs": [
                {
                    "output_type": "display_data",
                    "data": {
                        "text/html": "(62 rows affected)"
                    },
                    "metadata": {}
                },
                {
                    "output_type": "display_data",
                    "data": {
                        "text/html": "Total execution time: 00:00:00.731"
                    },
                    "metadata": {}
                }
            ],
            "execution_count": 3
        },
        {
            "cell_type": "code",
            "source": [
                "insert into r038hca SELECT * FROM [LNK_SENIORHML].[VETORH_HML].[dbo].[r038hca] where numemp IN (51,52,53,54) order by 1,2,3;"
            ],
            "metadata": {
                "language": "sql",
                "azdata_cell_guid": "06b6cd47-5e27-4ec7-9d27-80d07cb820f4"
            },
            "outputs": [
                {
                    "output_type": "display_data",
                    "data": {
                        "text/html": "(4294 rows affected)"
                    },
                    "metadata": {}
                },
                {
                    "output_type": "display_data",
                    "data": {
                        "text/html": "Total execution time: 00:01:18.160"
                    },
                    "metadata": {}
                }
            ],
            "execution_count": 4
        },
        {
            "cell_type": "code",
            "source": [
                "update r038hca set estcar = 1 where numemp IN (51,52,53,54);"
            ],
            "metadata": {
                "language": "sql",
                "azdata_cell_guid": "3a2656ff-3c2d-4435-a766-a00080a3912a"
            },
            "outputs": [
                {
                    "output_type": "display_data",
                    "data": {
                        "text/html": "(4294 rows affected)"
                    },
                    "metadata": {}
                },
                {
                    "output_type": "display_data",
                    "data": {
                        "text/html": "Total execution time: 00:00:58.580"
                    },
                    "metadata": {}
                }
            ],
            "execution_count": 5
        },
        {
            "cell_type": "code",
            "source": [
                "insert into r038hcs SELECT * FROM [LNK_SENIORHML].[VETORH_HML].[dbo].[r038hcs] where numemp IN (51,52,53,54) order by 1,2,3;"
            ],
            "metadata": {
                "language": "sql",
                "azdata_cell_guid": "3701ee96-c4ff-48e8-8d52-843677ca4246"
            },
            "outputs": [
                {
                    "output_type": "display_data",
                    "data": {
                        "text/html": "(3504 rows affected)"
                    },
                    "metadata": {}
                },
                {
                    "output_type": "display_data",
                    "data": {
                        "text/html": "Total execution time: 00:00:42.151"
                    },
                    "metadata": {}
                }
            ],
            "execution_count": 6
        },
        {
            "cell_type": "code",
            "source": [
                "update r038hcs set stahis = 1 where numemp IN (51,52,53,54);"
            ],
            "metadata": {
                "language": "sql",
                "azdata_cell_guid": "32a2dff5-fb34-4900-a87b-73bfa55118dd"
            },
            "outputs": [
                {
                    "output_type": "display_data",
                    "data": {
                        "text/html": "(3504 rows affected)"
                    },
                    "metadata": {}
                },
                {
                    "output_type": "display_data",
                    "data": {
                        "text/html": "Total execution time: 00:00:39.382"
                    },
                    "metadata": {}
                }
            ],
            "execution_count": 7
        },
        {
            "cell_type": "code",
            "source": [
                "insert into r038afa SELECT * FROM [LNK_SENIORHML].[VETORH_HML].[dbo].[r038afa] where numemp IN (51,52,53,54) order by 1,2,3;"
            ],
            "metadata": {
                "language": "sql",
                "azdata_cell_guid": "7c9a6d57-6c4d-46f7-9d33-ed201dcccbde"
            },
            "outputs": [
                {
                    "output_type": "display_data",
                    "data": {
                        "text/html": "(11150 rows affected)"
                    },
                    "metadata": {}
                },
                {
                    "output_type": "display_data",
                    "data": {
                        "text/html": "Total execution time: 00:08:58.798"
                    },
                    "metadata": {}
                }
            ],
            "execution_count": 8
        },
        {
            "cell_type": "code",
            "source": [
                "update r038afa set indrem = 0 where numemp IN (51,52,53,54);"
            ],
            "metadata": {
                "language": "sql",
                "azdata_cell_guid": "30898b33-1046-4554-a3b9-51cfa9cbc46c"
            },
            "outputs": [
                {
                    "output_type": "display_data",
                    "data": {
                        "text/html": "(11150 rows affected)"
                    },
                    "metadata": {}
                },
                {
                    "output_type": "display_data",
                    "data": {
                        "text/html": "Total execution time: 00:02:40.336"
                    },
                    "metadata": {}
                }
            ],
            "execution_count": 9
        },
        {
            "cell_type": "code",
            "source": [
                "insert into r038hfi SELECT * FROM [LNK_SENIORHML].[VETORH_HML].[dbo].[r038hfi] where numemp IN (51,52,53,54) order by 1,2,3;"
            ],
            "metadata": {
                "language": "sql",
                "azdata_cell_guid": "c8899cce-a519-4c39-8b6e-95e280659705"
            },
            "outputs": [
                {
                    "output_type": "display_data",
                    "data": {
                        "text/html": "(3504 rows affected)"
                    },
                    "metadata": {}
                },
                {
                    "output_type": "display_data",
                    "data": {
                        "text/html": "Total execution time: 00:01:59.924"
                    },
                    "metadata": {}
                }
            ],
            "execution_count": 10
        },
        {
            "cell_type": "code",
            "source": [
                "update r038hfi set confin = 0 where numemp IN (51,52,53,54);"
            ],
            "metadata": {
                "language": "sql",
                "azdata_cell_guid": "afc1fc0a-02ae-45b6-823d-3145b1e0f2c2"
            },
            "outputs": [
                {
                    "output_type": "display_data",
                    "data": {
                        "text/html": "(3504 rows affected)"
                    },
                    "metadata": {}
                },
                {
                    "output_type": "display_data",
                    "data": {
                        "text/html": "Total execution time: 00:00:37.678"
                    },
                    "metadata": {}
                }
            ],
            "execution_count": 11
        },
        {
            "cell_type": "code",
            "source": [
                "insert into r038apu SELECT * FROM [LNK_SENIORHML].[VETORH_HML].[dbo].[r038apu] where numemp IN (51,52,53,54) order by 1,2,3;"
            ],
            "metadata": {
                "language": "sql",
                "azdata_cell_guid": "1730d078-47fc-4db4-bbc0-390713177c40"
            },
            "outputs": [
                {
                    "output_type": "display_data",
                    "data": {
                        "text/html": "(3528 rows affected)"
                    },
                    "metadata": {}
                },
                {
                    "output_type": "display_data",
                    "data": {
                        "text/html": "Total execution time: 00:00:00.475"
                    },
                    "metadata": {}
                }
            ],
            "execution_count": 12
        },
        {
            "cell_type": "code",
            "source": [
                "insert into r038hch SELECT * FROM [LNK_SENIORHML].[VETORH_HML].[dbo].[r038hch] where numemp IN (51,52,53,54) order by 1,2,3;"
            ],
            "metadata": {
                "language": "sql",
                "azdata_cell_guid": "4a756640-e8b3-465d-8029-3ed37ee5b8ff"
            },
            "outputs": [
                {
                    "output_type": "display_data",
                    "data": {
                        "text/html": "(1256 rows affected)"
                    },
                    "metadata": {}
                },
                {
                    "output_type": "display_data",
                    "data": {
                        "text/html": "Total execution time: 00:00:22.003"
                    },
                    "metadata": {}
                }
            ],
            "execution_count": 13
        },
        {
            "cell_type": "code",
            "source": [
                "update r038hch set craent = ' ' where numemp IN (51,52,53,54);"
            ],
            "metadata": {
                "language": "sql",
                "azdata_cell_guid": "12763dff-3ad7-406e-bd86-15153cf5f1bf"
            },
            "outputs": [
                {
                    "output_type": "display_data",
                    "data": {
                        "text/html": "(1256 rows affected)"
                    },
                    "metadata": {}
                },
                {
                    "output_type": "display_data",
                    "data": {
                        "text/html": "Total execution time: 00:00:17.993"
                    },
                    "metadata": {}
                }
            ],
            "execution_count": 14
        },
        {
            "cell_type": "code",
            "source": [
                "insert into r038hsi SELECT * FROM [LNK_SENIORHML].[VETORH_HML].[dbo].[r038hsi] where numemp IN (51,52,53,54) order by 1,2,3;"
            ],
            "metadata": {
                "language": "sql",
                "azdata_cell_guid": "f0f7cc09-2bcd-42b7-9f86-999247ea9f2f"
            },
            "outputs": [
                {
                    "output_type": "display_data",
                    "data": {
                        "text/html": "(3514 rows affected)"
                    },
                    "metadata": {}
                },
                {
                    "output_type": "display_data",
                    "data": {
                        "text/html": "Total execution time: 00:00:39.450"
                    },
                    "metadata": {}
                }
            ],
            "execution_count": 15
        },
        {
            "cell_type": "code",
            "source": [
                "update r038hsi set stahis = 1 where numemp IN (51,52,53,54);"
            ],
            "metadata": {
                "language": "sql",
                "azdata_cell_guid": "f3f0499a-2fe1-477f-a36a-0f564a23deff"
            },
            "outputs": [
                {
                    "output_type": "display_data",
                    "data": {
                        "text/html": "(3514 rows affected)"
                    },
                    "metadata": {}
                },
                {
                    "output_type": "display_data",
                    "data": {
                        "text/html": "Total execution time: 00:00:38.211"
                    },
                    "metadata": {}
                }
            ],
            "execution_count": 16
        },
        {
            "cell_type": "code",
            "source": [
                "insert into r038hvi SELECT * FROM [LNK_SENIORHML].[VETORH_HML].[dbo].[r038hvi] where numemp IN (51,52,53,54) order by 1,2,3;"
            ],
            "metadata": {
                "language": "sql",
                "azdata_cell_guid": "8597db06-c905-4335-9c6f-724c3188a57a"
            },
            "outputs": [
                {
                    "output_type": "display_data",
                    "data": {
                        "text/html": "(3504 rows affected)"
                    },
                    "metadata": {}
                },
                {
                    "output_type": "display_data",
                    "data": {
                        "text/html": "Total execution time: 00:00:41.539"
                    },
                    "metadata": {}
                }
            ],
            "execution_count": 17
        },
        {
            "cell_type": "code",
            "source": [
                "update r038hvi set stahis = 1 where numemp IN (51,52,53,54);"
            ],
            "metadata": {
                "language": "sql",
                "azdata_cell_guid": "a237ba2f-b0f2-4d27-9fe5-b13ae5fd1944"
            },
            "outputs": [
                {
                    "output_type": "display_data",
                    "data": {
                        "text/html": "(3504 rows affected)"
                    },
                    "metadata": {}
                },
                {
                    "output_type": "display_data",
                    "data": {
                        "text/html": "Total execution time: 00:00:37.183"
                    },
                    "metadata": {}
                }
            ],
            "execution_count": 18
        },
        {
            "cell_type": "code",
            "source": [
                "insert into r038hes SELECT * FROM [LNK_SENIORHML].[VETORH_HML].[dbo].[r038hes] where numemp IN (51,52,53,54) order by 1,2,3;"
            ],
            "metadata": {
                "language": "sql",
                "azdata_cell_guid": "06e3da9f-5515-47af-acf1-bc5c6e93e687"
            },
            "outputs": [
                {
                    "output_type": "display_data",
                    "data": {
                        "text/html": "(4145 rows affected)"
                    },
                    "metadata": {}
                },
                {
                    "output_type": "display_data",
                    "data": {
                        "text/html": "Total execution time: 00:01:27.538"
                    },
                    "metadata": {}
                }
            ],
            "execution_count": 19
        },
        {
            "cell_type": "code",
            "source": [
                "update r038hes set stahis = 1 where numemp IN (51,52,53,54);"
            ],
            "metadata": {
                "language": "sql",
                "azdata_cell_guid": "479fd98e-2beb-4be8-a4d2-de1d7c3a4034"
            },
            "outputs": [
                {
                    "output_type": "display_data",
                    "data": {
                        "text/html": "(4145 rows affected)"
                    },
                    "metadata": {}
                },
                {
                    "output_type": "display_data",
                    "data": {
                        "text/html": "Total execution time: 00:01:13.249"
                    },
                    "metadata": {}
                }
            ],
            "execution_count": 20
        },
        {
            "cell_type": "code",
            "source": [
                "insert into r018ccu SELECT * FROM [LNK_SENIORHML].[VETORH_HML].[dbo].[r018ccu] ccu2 where numemp in (51,52,53,54)\r\n",
                "and NOT EXISTS (SELECT * FROM r018ccu ESC1 where esc1.codccu = ccu2.codccu and esc1.numemp = ccu2.numemp)"
            ],
            "metadata": {
                "language": "sql",
                "azdata_cell_guid": "55c4e943-ed77-4bac-9718-97bc2b649547"
            },
            "outputs": [
                {
                    "output_type": "display_data",
                    "data": {
                        "text/html": "(414 rows affected)"
                    },
                    "metadata": {}
                },
                {
                    "output_type": "display_data",
                    "data": {
                        "text/html": "Total execution time: 00:00:00.298"
                    },
                    "metadata": {}
                }
            ],
            "execution_count": 26
        },
        {
            "cell_type": "code",
            "source": [
                "insert into r038hcc SELECT * FROM [LNK_SENIORHML].[VETORH_HML].[dbo].[r038hcc] where numemp IN (51,52,53,54) order by 1,2,3;"
            ],
            "metadata": {
                "language": "sql",
                "azdata_cell_guid": "0efa39e4-0cca-4756-817c-89924a3992b5"
            },
            "outputs": [
                {
                    "output_type": "display_data",
                    "data": {
                        "text/html": "(1370 rows affected)"
                    },
                    "metadata": {}
                },
                {
                    "output_type": "display_data",
                    "data": {
                        "text/html": "Total execution time: 00:00:16.098"
                    },
                    "metadata": {}
                }
            ],
            "execution_count": 27
        },
        {
            "cell_type": "code",
            "source": [
                "update r038hcc set stahis = 1 where numemp IN (51,52,53,54);"
            ],
            "metadata": {
                "language": "sql",
                "azdata_cell_guid": "90e5dd4f-d7f2-450d-8d00-514b112af49f"
            },
            "outputs": [
                {
                    "output_type": "display_data",
                    "data": {
                        "text/html": "(1370 rows affected)"
                    },
                    "metadata": {}
                },
                {
                    "output_type": "display_data",
                    "data": {
                        "text/html": "Total execution time: 00:00:16.099"
                    },
                    "metadata": {}
                }
            ],
            "execution_count": 29
        },
        {
            "cell_type": "code",
            "source": [
                "insert into r038evt SELECT * FROM [LNK_SENIORHML].[VETORH_HML].[dbo].[r038evt] where numemp IN (51,52,53,54) order by 1,2,3;"
            ],
            "metadata": {
                "language": "sql",
                "azdata_cell_guid": "cbb61c27-0c80-4b41-9f5e-31a3e93a6496"
            },
            "outputs": [
                {
                    "output_type": "display_data",
                    "data": {
                        "text/html": "(402 rows affected)"
                    },
                    "metadata": {}
                },
                {
                    "output_type": "display_data",
                    "data": {
                        "text/html": "Total execution time: 00:00:04.755"
                    },
                    "metadata": {}
                }
            ],
            "execution_count": 30
        },
        {
            "cell_type": "code",
            "source": [
                "update r038evt set ponemb = 0 where numemp IN (51,52,53,54);\r\n",
                ""
            ],
            "metadata": {
                "language": "sql",
                "azdata_cell_guid": "14c5e710-799b-4380-a9b1-aa69833041b6",
                "tags": [
                    "hide_input"
                ]
            },
            "outputs": [
                {
                    "output_type": "display_data",
                    "data": {
                        "text/html": "(402 rows affected)"
                    },
                    "metadata": {}
                },
                {
                    "output_type": "display_data",
                    "data": {
                        "text/html": "Total execution time: 00:00:04.228"
                    },
                    "metadata": {}
                }
            ],
            "execution_count": 31
        },
        {
            "cell_type": "code",
            "source": [
                "insert into r028exc SELECT * FROM [LNK_SENIORHML].[VETORH_HML].[dbo].[r028exc] where numemp IN (51,52,53,54) order by 1,2,3;"
            ],
            "metadata": {
                "language": "sql",
                "azdata_cell_guid": "fafcea50-08c8-4938-82a2-ec4722bc4460",
                "tags": []
            },
            "outputs": [
                {
                    "output_type": "display_data",
                    "data": {
                        "text/html": "(392 rows affected)"
                    },
                    "metadata": {}
                },
                {
                    "output_type": "display_data",
                    "data": {
                        "text/html": "Total execution time: 00:00:00.579"
                    },
                    "metadata": {}
                }
            ],
            "execution_count": 32
        },
        {
            "cell_type": "code",
            "source": [
                "insert into r012age SELECT * FROM [LNK_SENIORHML].[VETORH_HML].[dbo].[r012age] age2\r\n",
                "where NOT EXISTS (SELECT * FROM r012age age1 where age1.codban = age2.codban and age1.codage = age2.codage)"
            ],
            "metadata": {
                "language": "sql",
                "azdata_cell_guid": "d2272475-a9ec-4829-935c-5fa0baf933b5"
            },
            "outputs": [
                {
                    "output_type": "display_data",
                    "data": {
                        "text/html": "(4 rows affected)"
                    },
                    "metadata": {}
                },
                {
                    "output_type": "display_data",
                    "data": {
                        "text/html": "Total execution time: 00:00:00.124"
                    },
                    "metadata": {}
                }
            ],
            "execution_count": 37
        },
        {
            "cell_type": "code",
            "source": [
                "insert into r034con SELECT * FROM [LNK_SENIORHML].[VETORH_HML].[dbo].[r034con] where numemp IN (51,52,53,54) order by 1,2,3;"
            ],
            "metadata": {
                "language": "sql",
                "azdata_cell_guid": "a2e1201b-ccbc-4d01-b9b4-4c5576364a68"
            },
            "outputs": [
                {
                    "output_type": "display_data",
                    "data": {
                        "text/html": "(3116 rows affected)"
                    },
                    "metadata": {}
                },
                {
                    "output_type": "display_data",
                    "data": {
                        "text/html": "Total execution time: 00:00:03.927"
                    },
                    "metadata": {}
                }
            ],
            "execution_count": 38
        },
        {
            "cell_type": "code",
            "source": [
                "insert into r164pla SELECT * FROM [LNK_SENIORHML].[VETORH_HML].[dbo].[r164pla] pla2\r\n",
                "where NOT EXISTS (SELECT * FROM r164pla pla1 where pla1.CodOem = pla2.CodOem and pla1.CodPla = pla2.CodPla)"
            ],
            "metadata": {
                "language": "sql",
                "azdata_cell_guid": "7b12e398-8f36-4ebb-bd10-60dfd815ac94",
                "tags": [
                    "hide_input"
                ]
            },
            "outputs": [
                {
                    "output_type": "display_data",
                    "data": {
                        "text/html": "(7 rows affected)"
                    },
                    "metadata": {}
                },
                {
                    "output_type": "display_data",
                    "data": {
                        "text/html": "Total execution time: 00:00:00.243"
                    },
                    "metadata": {}
                }
            ],
            "execution_count": 42
        },
        {
            "cell_type": "code",
            "source": [
                "insert into r164pre SELECT * FROM [LNK_SENIORHML].[VETORH_HML].[dbo].[r164pre] pre2\r\n",
                "where NOT EXISTS (SELECT * FROM r164pre pre1 where pre1.codoem = pre2.codoem and pre1.codpla = pre2.codpla)"
            ],
            "metadata": {
                "language": "sql",
                "azdata_cell_guid": "ec2066ac-6892-475d-8a87-09a7276758d9"
            },
            "outputs": [
                {
                    "output_type": "display_data",
                    "data": {
                        "text/html": "(8 rows affected)"
                    },
                    "metadata": {}
                },
                {
                    "output_type": "display_data",
                    "data": {
                        "text/html": "Total execution time: 00:00:00.103"
                    },
                    "metadata": {}
                }
            ],
            "execution_count": 45
        },
        {
            "cell_type": "code",
            "source": [
                "insert into R164ass SELECT * FROM [LNK_SENIORHML].[VETORH_HML].[dbo].[R164ass] where numemp IN (51,52,53,54) order by 1,2,3;"
            ],
            "metadata": {
                "language": "sql",
                "azdata_cell_guid": "729b007e-9baa-472a-924e-60d794d89b52"
            },
            "outputs": [
                {
                    "output_type": "display_data",
                    "data": {
                        "text/html": "(825 rows affected)"
                    },
                    "metadata": {}
                },
                {
                    "output_type": "display_data",
                    "data": {
                        "text/html": "Total execution time: 00:00:00.069"
                    },
                    "metadata": {}
                }
            ],
            "execution_count": 46
        },
        {
            "cell_type": "code",
            "source": [
                "insert into r164dep SELECT * FROM [LNK_SENIORHML].[VETORH_HML].[dbo].[r164dep] where numemp IN (51,52,53,54) order by 1,2,3;"
            ],
            "metadata": {
                "language": "sql",
                "azdata_cell_guid": "ec8eec41-8a23-4732-bed9-0f8f59163300"
            },
            "outputs": [
                {
                    "output_type": "display_data",
                    "data": {
                        "text/html": "(395 rows affected)"
                    },
                    "metadata": {}
                },
                {
                    "output_type": "display_data",
                    "data": {
                        "text/html": "Total execution time: 00:00:00.306"
                    },
                    "metadata": {}
                }
            ],
            "execution_count": 47
        },
        {
            "cell_type": "code",
            "source": [
                "insert into r162ass SELECT * FROM [LNK_SENIORHML].[VETORH_HML].[dbo].[r162ass] where numemp IN (51,52,53,54) order by 1,2,3;"
            ],
            "metadata": {
                "language": "sql",
                "azdata_cell_guid": "ebe06252-3fe2-4673-a4d9-714cc27549e8"
            },
            "outputs": [
                {
                    "output_type": "display_data",
                    "data": {
                        "text/html": "(1604 rows affected)"
                    },
                    "metadata": {}
                },
                {
                    "output_type": "display_data",
                    "data": {
                        "text/html": "Total execution time: 00:00:00.958"
                    },
                    "metadata": {}
                }
            ],
            "execution_count": 48
        },
        {
            "cell_type": "code",
            "source": [
                "insert into r042rcm SELECT * FROM [LNK_SENIORHML].[VETORH_HML].[dbo].[r042rcm] where numemp IN (51,52,53,54) order by 1,2,3;"
            ],
            "metadata": {
                "language": "sql",
                "azdata_cell_guid": "8fd55a2c-46f8-4c6e-a107-617e7e6aaf4b"
            },
            "outputs": [
                {
                    "output_type": "display_data",
                    "data": {
                        "text/html": "(2348 rows affected)"
                    },
                    "metadata": {}
                },
                {
                    "output_type": "display_data",
                    "data": {
                        "text/html": "Total execution time: 00:00:02.489"
                    },
                    "metadata": {}
                }
            ],
            "execution_count": 49
        },
        {
            "cell_type": "code",
            "source": [
                "insert into r042rcv SELECT * FROM [LNK_SENIORHML].[VETORH_HML].[dbo].[r042rcv] where numemp IN (51,52,53,54) order by 1,2,3;"
            ],
            "metadata": {
                "language": "sql",
                "azdata_cell_guid": "f15c4e56-6439-484f-b4b8-de4c07a2fd02"
            },
            "outputs": [
                {
                    "output_type": "display_data",
                    "data": {
                        "text/html": "(15711 rows affected)"
                    },
                    "metadata": {}
                },
                {
                    "output_type": "display_data",
                    "data": {
                        "text/html": "Total execution time: 00:00:46.062"
                    },
                    "metadata": {}
                }
            ],
            "execution_count": 50
        },
        {
            "cell_type": "code",
            "source": [
                "insert into r040per SELECT * FROM [LNK_SENIORHML].[VETORH_HML].[dbo].[r040per] where numemp IN (51,52,53,54) order by 1,2,3;"
            ],
            "metadata": {
                "language": "sql",
                "azdata_cell_guid": "ebb0ac77-0845-4032-9849-dc1e3d895768"
            },
            "outputs": [
                {
                    "output_type": "display_data",
                    "data": {
                        "text/html": "(6635 rows affected)"
                    },
                    "metadata": {}
                },
                {
                    "output_type": "display_data",
                    "data": {
                        "text/html": "Total execution time: 00:00:03.545"
                    },
                    "metadata": {}
                }
            ],
            "execution_count": 51
        },
        {
            "cell_type": "code",
            "source": [
                "insert into r040fem SELECT * FROM [LNK_SENIORHML].[VETORH_HML].[dbo].[r040fem] where numemp IN (51,52,53,54) order by 1,2,3;"
            ],
            "metadata": {
                "language": "sql",
                "azdata_cell_guid": "3d510906-9622-4fc0-91bc-9bcfb793b7bf"
            },
            "outputs": [
                {
                    "output_type": "display_data",
                    "data": {
                        "text/html": "(2366 rows affected)"
                    },
                    "metadata": {}
                },
                {
                    "output_type": "display_data",
                    "data": {
                        "text/html": "Total execution time: 00:00:01.518"
                    },
                    "metadata": {}
                }
            ],
            "execution_count": 52
        },
        {
            "cell_type": "code",
            "source": [
                "insert into r040fev SELECT * FROM [LNK_SENIORHML].[VETORH_HML].[dbo].[r040fev] where numemp IN (51,52,53,54) order by 1,2,3;"
            ],
            "metadata": {
                "language": "sql",
                "azdata_cell_guid": "8090f140-de7d-4084-ba2c-c59c624b57f9"
            },
            "outputs": [
                {
                    "output_type": "display_data",
                    "data": {
                        "text/html": "(9962 rows affected)"
                    },
                    "metadata": {}
                },
                {
                    "output_type": "display_data",
                    "data": {
                        "text/html": "Total execution time: 00:00:02.134"
                    },
                    "metadata": {}
                }
            ],
            "execution_count": 53
        },
        {
            "cell_type": "code",
            "source": [
                "insert r044cal SELECT * FROM [LNK_SENIORHML].[VETORH_HML].[dbo].[r044cal] cal2 \r\n",
                "where NOT EXISTS (SELECT * FROM r044cal cal1 where cal1.codcal = cal2.codcal and cal1.numemp = cal2.numemp)"
            ],
            "metadata": {
                "language": "sql",
                "azdata_cell_guid": "40e899e3-fbe0-4920-9ffe-4f912c63c7f9"
            },
            "outputs": [
                {
                    "output_type": "display_data",
                    "data": {
                        "text/html": "(301 rows affected)"
                    },
                    "metadata": {}
                },
                {
                    "output_type": "display_data",
                    "data": {
                        "text/html": "Total execution time: 00:00:01.520"
                    },
                    "metadata": {}
                }
            ],
            "execution_count": 54
        },
        {
            "cell_type": "code",
            "source": [
                "insert into r046ver SELECT * FROM [LNK_SENIORHML].[VETORH_HML].[dbo].[r046ver] where numemp IN (51,52,53,54) order by 1,2,3;"
            ],
            "metadata": {
                "language": "sql",
                "azdata_cell_guid": "07b4dd22-946b-4319-8ba9-c64b831f75b6"
            },
            "outputs": [
                {
                    "output_type": "display_data",
                    "data": {
                        "text/html": "(211610 rows affected)"
                    },
                    "metadata": {}
                },
                {
                    "output_type": "display_data",
                    "data": {
                        "text/html": "Total execution time: 00:00:50.747"
                    },
                    "metadata": {}
                }
            ],
            "execution_count": 55
        },
        {
            "cell_type": "code",
            "source": [
                "update r044cal set sitcal = 'T' where numemp in (51,52,53,54)"
            ],
            "metadata": {
                "language": "sql",
                "azdata_cell_guid": "68efa57a-359d-4d6e-a00f-65bd01110a96"
            },
            "outputs": [],
            "execution_count": null
        }
    ]
}